{
 "cells": [
  {
   "cell_type": "code",
   "execution_count": 1,
   "id": "227ebab5",
   "metadata": {},
   "outputs": [
    {
     "ename": "",
     "evalue": "",
     "output_type": "error",
     "traceback": [
      "\u001b[1;31mCannot execute code, session has been disposed. Please try restarting the Kernel."
     ]
    },
    {
     "ename": "",
     "evalue": "",
     "output_type": "error",
     "traceback": [
      "\u001b[1;31mCannot execute code, session has been disposed. Please try restarting the Kernel. \n",
      "\u001b[1;31mView Jupyter <a href='command:jupyter.viewOutput'>log</a> for further details."
     ]
    }
   ],
   "source": [
    "# dependecies\n",
    "import pandas as pd\n",
    "import numpy as np\n",
    "from sklearn.model_selection import train_test_split\n",
    "import random\n",
    "from sklearn.tree import DecisionTreeClassifier, export_graphviz, plot_tree\n",
    "from sklearn.ensemble import RandomForestClassifier\n",
    "import statsmodels.api as sm\n",
    "from sklearn.metrics import mean_absolute_error, mean_squared_error\n",
    "import matplotlib.pyplot as plt\n",
    "from matplotlib.colors import ListedColormap\n",
    "import seaborn as sns\n",
    "from scipy import stats\n",
    "import tensorflow as tf\n",
    "from tensorflow import keras\n",
    "from sklearn.model_selection import GridSearchCV\n",
    "from sklearn.preprocessing import StandardScaler\n",
    "from sklearn.metrics import confusion_matrix\n",
    "from sklearn.metrics import classification_report\n",
    "from scikeras.wrappers import KerasClassifier"
   ]
  },
  {
   "cell_type": "code",
   "execution_count": null,
   "id": "5f8a9b03",
   "metadata": {},
   "outputs": [],
   "source": [
    "# reading in the data\n",
    "data = pd.read_csv('insurance.csv')\n",
    "data.head()"
   ]
  },
  {
   "cell_type": "code",
   "execution_count": null,
   "id": "b97dc23f",
   "metadata": {},
   "outputs": [],
   "source": [
    "# understanding categorical vs numerical (can also use df.dtypes)\n",
    "data.info()"
   ]
  },
  {
   "cell_type": "code",
   "execution_count": null,
   "id": "46fe610f",
   "metadata": {},
   "outputs": [],
   "source": [
    "# checking null values\n",
    "data.isnull().sum()"
   ]
  },
  {
   "cell_type": "code",
   "execution_count": null,
   "id": "d46b9ba3",
   "metadata": {},
   "outputs": [],
   "source": [
    "# checking duplicated values\n",
    "data.duplicated().sum()"
   ]
  },
  {
   "cell_type": "code",
   "execution_count": null,
   "id": "7000096e",
   "metadata": {},
   "outputs": [],
   "source": [
    "duplicated_rows = data[data.duplicated()]\n",
    "duplicated_rows"
   ]
  },
  {
   "cell_type": "code",
   "execution_count": null,
   "id": "5a21003e",
   "metadata": {},
   "outputs": [],
   "source": [
    "# handling duplicates\n",
    "data = data.drop_duplicates()"
   ]
  },
  {
   "cell_type": "code",
   "execution_count": null,
   "id": "6ae8fd26",
   "metadata": {},
   "outputs": [],
   "source": [
    "data.info()"
   ]
  },
  {
   "cell_type": "code",
   "execution_count": null,
   "id": "456de2e8",
   "metadata": {},
   "outputs": [],
   "source": [
    "data.duplicated().sum()"
   ]
  },
  {
   "cell_type": "code",
   "execution_count": null,
   "id": "016d13e1",
   "metadata": {},
   "outputs": [],
   "source": [
    "data.info()"
   ]
  },
  {
   "cell_type": "code",
   "execution_count": null,
   "id": "204b0661",
   "metadata": {},
   "outputs": [],
   "source": [
    "# categorical => numerical\n",
    "data['sex_numeric'] = data['sex']\n",
    "\n",
    "dict_sex = {'sex_numeric': {'female': 1, 'male': 2}}\n",
    "data.replace(dict_sex, inplace = True)\n",
    "\n",
    "data['region_numeric'] = data['region']\n",
    "\n",
    "dict_region = {'region_numeric': {'northeast': 1, 'northwest': 2, 'southeast': 3, 'southwest': 4}}\n",
    "data.replace(dict_region, inplace = True)\n",
    "\n",
    "data['smoker_numeric'] = data['smoker']\n",
    "\n",
    "dict_smoker = {'smoker_numeric': {'yes': 1, 'no': 2}}\n",
    "data.replace(dict_smoker, inplace = True)"
   ]
  },
  {
   "cell_type": "code",
   "execution_count": null,
   "id": "4399522b",
   "metadata": {},
   "outputs": [],
   "source": [
    "# keeping datasets separate for utilization of both\n",
    "data_numeric = data.copy()\n",
    "data_numeric.drop(['sex', 'region', 'smoker'], inplace = True, axis = 1)\n",
    "data.drop(['sex_numeric', 'region_numeric', 'smoker_numeric'], axis=1, inplace=True)"
   ]
  },
  {
   "cell_type": "code",
   "execution_count": null,
   "id": "549714bf",
   "metadata": {},
   "outputs": [],
   "source": [
    "data.head()"
   ]
  },
  {
   "cell_type": "code",
   "execution_count": null,
   "id": "ffe499b3",
   "metadata": {},
   "outputs": [],
   "source": [
    "data_numeric.head()"
   ]
  },
  {
   "cell_type": "code",
   "execution_count": null,
   "id": "a4ce7b50",
   "metadata": {},
   "outputs": [],
   "source": [
    "data_numeric.info()"
   ]
  },
  {
   "cell_type": "code",
   "execution_count": null,
   "id": "50848bd0",
   "metadata": {},
   "outputs": [],
   "source": [
    "# get means, standard deviations, min, max, etc.\n",
    "data_numeric.describe()"
   ]
  },
  {
   "cell_type": "markdown",
   "id": "be5cc813",
   "metadata": {},
   "source": [
    "BEGINNING THE VISUALIZATIONS"
   ]
  },
  {
   "cell_type": "code",
   "execution_count": null,
   "id": "78f7ee7b",
   "metadata": {},
   "outputs": [],
   "source": [
    "corr = data_numeric.corr()\n",
    "\n",
    "plt.figure(figsize=[12, 8])\n",
    "sns.heatmap(corr, annot=True, fmt='.4f')\n",
    "plt.title('Correlation Matrix of Variables')\n",
    "plt.show()\n"
   ]
  },
  {
   "cell_type": "markdown",
   "id": "190c2e2f",
   "metadata": {},
   "source": [
    "nothing really of note; strong negative correlation between smoking & insurance charges"
   ]
  },
  {
   "cell_type": "code",
   "execution_count": null,
   "id": "44bfda9b",
   "metadata": {},
   "outputs": [],
   "source": [
    "# histograms\n",
    "data_numeric.hist(bins=15, figsize=[15,10])\n",
    "plt.show()"
   ]
  },
  {
   "cell_type": "markdown",
   "id": "1922c438",
   "metadata": {},
   "source": [
    "age, children, and charges are skewed to the right. bmi is reminscent of a normal curve. There is evidence of imbalance in age, children, and smoker features."
   ]
  },
  {
   "cell_type": "code",
   "execution_count": null,
   "id": "ac7d7dfb",
   "metadata": {},
   "outputs": [],
   "source": [
    "# get mean, standard deviation, basic statistics\n",
    "data_numeric.describe()"
   ]
  },
  {
   "cell_type": "code",
   "execution_count": null,
   "id": "c4eeac63",
   "metadata": {},
   "outputs": [],
   "source": [
    "# due to charge feature skew, most outliers are on the higher end. \n",
    "sns.boxplot(y='charges', x='region_numeric', hue='smoker_numeric', data=data_numeric)"
   ]
  },
  {
   "cell_type": "markdown",
   "id": "50a59abd",
   "metadata": {},
   "source": [
    "multiple experimenets with boxplots; can make numerous conclusions about them. "
   ]
  },
  {
   "cell_type": "code",
   "execution_count": null,
   "id": "db434a8e",
   "metadata": {},
   "outputs": [],
   "source": [
    "# pairplot video experimentation\n",
    "sns.pairplot(data, kind='reg')"
   ]
  },
  {
   "cell_type": "markdown",
   "id": "588db37b",
   "metadata": {},
   "source": [
    "- detecting numerical features\n",
    "- histograms on the diagonals; scatter plots everywhere else; can be changed\n",
    "- use hue for categorical features\n",
    "- boolean types are treated as numeric\n",
    "- can specify which exact variables you want to see & which axis they're on "
   ]
  },
  {
   "cell_type": "code",
   "execution_count": null,
   "id": "2ef6ed95",
   "metadata": {},
   "outputs": [],
   "source": [
    "palette = [ '#C66F80', '#F4C7D0', 'HFCEBF1', '#4A6644', '#9FAA74', '#D7DAB3', '#ECE3D2' ]\n",
    "sns.pairplot(data, hue='smoker', palette='plasma', vars=['charges', 'bmi'])"
   ]
  },
  {
   "cell_type": "code",
   "execution_count": null,
   "id": "74573059",
   "metadata": {},
   "outputs": [],
   "source": [
    "# to understand a misconception\n",
    "sns.kdeplot(data, x='age', hue='smoker', palette=palette)"
   ]
  },
  {
   "cell_type": "code",
   "execution_count": null,
   "id": "872b829d",
   "metadata": {},
   "outputs": [],
   "source": [
    "# numerical => categorical for \"imbalance\"/skew purposes\n",
    "data['age_category'] = pd.cut(data['age'], bins=[0, 25, 35, 45, 55, 65, 100], labels=['18-25', '26-35', '36-45', '46-55', '56-65', '65+'])\n",
    "data['bmi_category'] = pd.cut(data['bmi'], bins=[0, 18.5, 25, 30, np.inf], labels=['Underweight', 'Normal', 'Overweight', 'Obese'])\n",
    "data['charges_category'] = pd.cut(data['charges'], bins=[0, 10000, 20000, 30000, 40000, 50000, 60000, np.inf], labels=['$0-10,000', '$10,001-20,000', '$20,001-30,000', '$30,001-40,000', '$40,001-50,000', '$50,001-60,000', '$60,000+'])"
   ]
  },
  {
   "cell_type": "code",
   "execution_count": null,
   "id": "6e18b3ec",
   "metadata": {},
   "outputs": [],
   "source": [
    "data.head()"
   ]
  },
  {
   "cell_type": "code",
   "execution_count": null,
   "id": "44749161",
   "metadata": {},
   "outputs": [],
   "source": [
    "data.to_csv('data_categorical.csv', index=False)"
   ]
  },
  {
   "cell_type": "code",
   "execution_count": null,
   "id": "9f11af64",
   "metadata": {},
   "outputs": [],
   "source": [
    "data.info()"
   ]
  },
  {
   "cell_type": "markdown",
   "id": "c85a03de",
   "metadata": {},
   "source": [
    "learned quite a lot from that; despite the normal-looking curve for bmi, the results showed heavy skew for overweight & obese individuals"
   ]
  },
  {
   "cell_type": "code",
   "execution_count": null,
   "id": "70364e9e",
   "metadata": {},
   "outputs": [],
   "source": [
    "sns.boxplot(y='charges', x='sex', hue='bmi_category', data=data)"
   ]
  },
  {
   "cell_type": "code",
   "execution_count": null,
   "id": "d4a6aa4e",
   "metadata": {},
   "outputs": [],
   "source": [
    "data.head()"
   ]
  },
  {
   "cell_type": "code",
   "execution_count": null,
   "id": "39852fd2",
   "metadata": {},
   "outputs": [],
   "source": [
    "# let's create a contingency table to see sex & bmi broken down\n",
    "crosstab01 = pd.crosstab(data['sex'], data['bmi_category'])\n",
    "crosstab01"
   ]
  },
  {
   "cell_type": "markdown",
   "id": "c2486ca7",
   "metadata": {},
   "source": [
    "was checking a duplicate issue; there's an extra row somewhere; i don't care to find it"
   ]
  },
  {
   "cell_type": "code",
   "execution_count": null,
   "id": "e3ac16db",
   "metadata": {},
   "outputs": [],
   "source": [
    "data.duplicated().sum()"
   ]
  },
  {
   "cell_type": "code",
   "execution_count": null,
   "id": "c4febf2b",
   "metadata": {},
   "outputs": [],
   "source": [
    "data.shape"
   ]
  },
  {
   "cell_type": "code",
   "execution_count": null,
   "id": "89fc5ae6",
   "metadata": {},
   "outputs": [],
   "source": [
    "crosstab01.plot(kind='bar', stacked = True)"
   ]
  },
  {
   "cell_type": "code",
   "execution_count": null,
   "id": "03ac9dee",
   "metadata": {},
   "outputs": [],
   "source": [
    "data.head()"
   ]
  },
  {
   "cell_type": "code",
   "execution_count": null,
   "id": "66cb8a41",
   "metadata": {},
   "outputs": [],
   "source": [
    "# checking feature importance (i think??); seeing if i can see any distinct noticeable patterns\n",
    "columns = ['age_category', 'sex', 'bmi_category', 'smoker', 'children', 'region']\n",
    "\n",
    "for col in columns:\n",
    "    plt.figure(figsize=(8, 4))\n",
    "    sns.countplot(x=col, hue='charges_category', data=data, palette=palette)\n",
    "    plt.xlabel(col)\n",
    "    plt.ylabel('Count')\n",
    "    plt.title('Insurance Charges', loc='right')\n",
    "    plt.show()"
   ]
  },
  {
   "cell_type": "code",
   "execution_count": null,
   "id": "b954beda",
   "metadata": {},
   "outputs": [],
   "source": []
  }
 ],
 "metadata": {
  "kernelspec": {
   "display_name": "base",
   "language": "python",
   "name": "python3"
  },
  "language_info": {
   "codemirror_mode": {
    "name": "ipython",
    "version": 3
   },
   "file_extension": ".py",
   "mimetype": "text/x-python",
   "name": "python",
   "nbconvert_exporter": "python",
   "pygments_lexer": "ipython3",
   "version": "3.13.5"
  }
 },
 "nbformat": 4,
 "nbformat_minor": 5
}
